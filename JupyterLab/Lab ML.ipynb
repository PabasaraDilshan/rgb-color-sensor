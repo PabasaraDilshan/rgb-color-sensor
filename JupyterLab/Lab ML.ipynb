{
 "cells": [
  {
   "cell_type": "code",
   "execution_count": 21,
   "id": "212592ba-cbf6-4598-a420-03c57a9c9809",
   "metadata": {},
   "outputs": [
    {
     "output_type": "stream",
     "name": "stdout",
     "text": [
      "20.325345475997096\n111.01621584741042\n-4.318663893436678\n[array([ 7.80644240e+02, -4.13541438e+00,  1.59315003e+00, -3.45407759e+00,\n       -9.54168462e-04, -2.08982170e-03,  2.71439925e-03, -6.38481761e-06,\n        7.25086177e-03,  5.62079704e-03, -6.56728901e-04]), array([ 5.17850799e+03, -7.95412008e+00, -8.00483746e+00, -7.77173139e+00,\n       -6.37863401e-04, -2.08148107e-04, -4.29135121e-03, -1.52957332e-05,\n        9.63670908e-03,  1.34797074e-02,  1.59249269e-02]), array([ 2.40181999e+03, -5.53947782e+00, -2.49122749e+00, -4.34062003e+00,\n       -4.89891584e-04,  1.92371330e-03,  4.32416302e-03, -9.86222636e-06,\n        6.19024560e-03,  9.65242368e-03, -1.46407617e-03])]\n"
     ]
    }
   ],
   "source": [
    "# theta = (XTX)'XTY\n",
    "import numpy as np\n",
    "file = open(\"readings1.csv\",\"r\")\n",
    "data = file.read().split('\\n')\n",
    "data.pop()\n",
    "thetas = []\n",
    "nX = 10\n",
    "\n",
    "X = np.array(list(map(lambda a: [1]+ [float(i) for i  in a.split(',')[:nX]],data[1:])))\n",
    "\n",
    "for i in range(3):\n",
    "    Y = np.array(list(map(lambda a: float(a.split(',')[nX+i]),data[1:])))\n",
    "    theta = np.matmul(np.linalg.inv(np.matmul(np.transpose(X),X)),np.matmul(np.transpose(X),Y))\n",
    "    thetas.append(theta)\n",
    "\n",
    "pred = np.array([1,433,\t757\t,570,\t187489,\t573049,\t324900\t,186835170,\t327781\t,246810,\t431490\n",
    "\n",
    "\n",
    "\n",
    "\n",
    "\n",
    "\n",
    "\n",
    "])\n",
    "\n",
    "for theta in thetas:\n",
    "    print(np.dot(theta,pred))\n",
    "print(thetas)"
   ]
  },
  {
   "cell_type": "code",
   "execution_count": null,
   "id": "23349cb1-7ec3-48ca-a239-b016b3083caa",
   "metadata": {},
   "outputs": [],
   "source": []
  },
  {
   "cell_type": "code",
   "execution_count": null,
   "metadata": {},
   "outputs": [],
   "source": []
  },
  {
   "cell_type": "code",
   "execution_count": null,
   "metadata": {},
   "outputs": [],
   "source": [
    "83.37800881787813\n",
    "123.54613950237297\n",
    "239.8992151893258"
   ]
  }
 ],
 "metadata": {
  "kernelspec": {
   "name": "python391jvsc74a57bd029dcb30fd8820e2d3bac04ac30cbe30887514a69d7741ac114b95002b567e5ad",
   "display_name": "Python 3.9.1 64-bit"
  },
  "language_info": {
   "codemirror_mode": {
    "name": "ipython",
    "version": 3
   },
   "file_extension": ".py",
   "mimetype": "text/x-python",
   "name": "python",
   "nbconvert_exporter": "python",
   "pygments_lexer": "ipython3",
   "version": "3.9.1"
  },
  "metadata": {
   "interpreter": {
    "hash": "29dcb30fd8820e2d3bac04ac30cbe30887514a69d7741ac114b95002b567e5ad"
   }
  }
 },
 "nbformat": 4,
 "nbformat_minor": 5
}