{
 "cells": [
  {
   "cell_type": "code",
   "execution_count": 5,
   "metadata": {},
   "outputs": [
    {
     "name": "stdout",
     "output_type": "stream",
     "text": [
      "12.266984465426503\n",
      "95.33469965555196\n",
      "146.95597920781074\n",
      "[array([ 8.39659089e+03, -1.43387799e+01, -1.24025925e+01, -1.21804079e+01,\n",
      "       -1.36744710e-03, -1.10227697e-03, -1.60541527e-03, -2.99189254e-05,\n",
      "        2.20019394e-02,  2.27728415e-02,  1.91967524e-02]), array([ 1.21126887e+04, -1.72854849e+01, -1.81688637e+01, -2.00784018e+01,\n",
      "        3.65574715e-04,  5.03305236e-03,  1.95367770e-04, -3.94800877e-05,\n",
      "        2.00262057e-02,  3.23329961e-02,  2.43869542e-02]), array([ 5.94820519e+03, -1.08256412e+01, -1.01770232e+01, -6.25221774e+00,\n",
      "       -3.37371722e-04,  4.60728185e-03,  2.74393213e-03, -2.01412798e-05,\n",
      "        1.31040478e-02,  1.73541278e-02,  3.94189474e-03])]\n"
     ]
    }
   ],
   "source": [
    "# theta = (XTX)'XTY\r\n",
    "import numpy as np\r\n",
    "file = open(\"readings180.csv\",\"r\")\r\n",
    "data = file.read().split('\\n')\r\n",
    "data.pop()\r\n",
    "thetas = []\r\n",
    "nX = 10\r\n",
    "\r\n",
    "X = np.array(list(map(lambda a: [1]+ [float(i) for i  in a.split(',')[:nX]],data[1:])))\r\n",
    "\r\n",
    "for i in range(3):\r\n",
    "    Y = np.array(list(map(lambda a: float(a.split(',')[nX+i]),data[1:])))\r\n",
    "    theta = np.matmul(np.linalg.inv(np.matmul(np.transpose(X),X)),np.matmul(np.transpose(X),Y))\r\n",
    "    thetas.append(theta)\r\n",
    "\r\n",
    "pred = np.array([1,425,\t758,\t717,\t180625,\t574564,\t514089,\t230981550,\t322150,\t304725,\t543486\r\n",
    "\r\n",
    "])\r\n",
    "\r\n",
    "for theta in thetas:\r\n",
    "    print(np.dot(theta,pred))\r\n",
    "print(thetas)"
   ]
  },
  {
   "cell_type": "code",
   "execution_count": null,
   "metadata": {},
   "outputs": [],
   "source": []
  },
  {
   "cell_type": "code",
   "execution_count": null,
   "metadata": {},
   "outputs": [],
   "source": []
  },
  {
   "cell_type": "code",
   "execution_count": null,
   "metadata": {},
   "outputs": [],
   "source": [
    "83.37800881787813\n",
    "123.54613950237297\n",
    "239.8992151893258"
   ]
  }
 ],
 "metadata": {
  "kernelspec": {
   "display_name": "Python 3.9.1 64-bit",
   "name": "python391jvsc74a57bd029dcb30fd8820e2d3bac04ac30cbe30887514a69d7741ac114b95002b567e5ad"
  },
  "language_info": {
   "codemirror_mode": {
    "name": "ipython",
    "version": 3
   },
   "file_extension": ".py",
   "mimetype": "text/x-python",
   "name": "python",
   "nbconvert_exporter": "python",
   "pygments_lexer": "ipython3",
   "version": "3.9.1"
  },
  "metadata": {
   "interpreter": {
    "hash": "29dcb30fd8820e2d3bac04ac30cbe30887514a69d7741ac114b95002b567e5ad"
   }
  }
 },
 "nbformat": 4,
 "nbformat_minor": 5
}